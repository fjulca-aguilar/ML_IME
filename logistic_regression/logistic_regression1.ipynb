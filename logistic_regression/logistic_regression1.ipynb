{
 "cells": [
  {
   "cell_type": "code",
   "execution_count": null,
   "metadata": {
    "collapsed": false
   },
   "outputs": [],
   "source": [
    "import numpy as np\n",
    "import matplotlib.pyplot as plt\n",
    "from gradientDescent import gradientDescent\n",
    "\n",
    "x = np.loadtxt('logistic1_x.txt')\n",
    "y = np.loadtxt('logistic1_y.txt')\n",
    "\n",
    "plt.plot(x[np.where(y == 1)[0], 0], x[np.where(y == 1)[0], 1], 'rx')\n",
    "plt.plot(x[np.where(y == 0)[0], 0], x[np.where(y == 0)[0], 1], 'bo')\n",
    "plt.show()"
   ]
  },
  {
   "cell_type": "markdown",
   "metadata": {},
   "source": [
    "# Set up parameters\n"
   ]
  },
  {
   "cell_type": "code",
   "execution_count": null,
   "metadata": {
    "collapsed": true
   },
   "outputs": [],
   "source": [
    "x = np.insert(x, 0, np.ones(m), axis = 1)\n",
    "\n",
    "num_iters = 1500\n",
    "alpha = 0.1\n",
    "theta = np.zeros(x.shape[1])\n",
    "theta = gradientDescent(x, y, theta, alpha, num_iters)\n",
    "print(\"The value of theta is: \", theta)"
   ]
  },
  {
   "cell_type": "markdown",
   "metadata": {},
   "source": [
    "# Plot the decision boundary: "
   ]
  }
 ],
 "metadata": {
  "anaconda-cloud": {},
  "kernelspec": {
   "display_name": "Python [Root]",
   "language": "python",
   "name": "Python [Root]"
  },
  "language_info": {
   "codemirror_mode": {
    "name": "ipython",
    "version": 3
   },
   "file_extension": ".py",
   "mimetype": "text/x-python",
   "name": "python",
   "nbconvert_exporter": "python",
   "pygments_lexer": "ipython3",
   "version": "3.5.2"
  }
 },
 "nbformat": 4,
 "nbformat_minor": 0
}
